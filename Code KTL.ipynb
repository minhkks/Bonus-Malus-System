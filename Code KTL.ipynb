{
  "cells": [
    {
      "cell_type": "markdown",
      "metadata": {
        "id": "00CVPfDQslA6"
      },
      "source": [
        "# Importing & data extraction"
      ]
    },
    {
      "cell_type": "code",
      "execution_count": null,
      "metadata": {
        "id": "pdF2Ty_Egjcs"
      },
      "outputs": [],
      "source": [
        "import numpy as np\n",
        "import math\n",
        "from numpy.linalg import inv\n",
        "from numpy import linalg as LA\n",
        "from scipy.special import gamma\n",
        "import scipy.integrate as integrate\n",
        "from scipy import integrate\n",
        "import pandas as pd\n",
        "#import cupy as cp\n",
        "from numba import cuda\n",
        "from random import shuffle\n",
        "import progressbar"
      ]
    },
    {
      "cell_type": "markdown",
      "metadata": {
        "id": "OqSn5qAusVZ_"
      },
      "source": [
        "# Theory"
      ]
    },
    {
      "cell_type": "markdown",
      "metadata": {
        "id": "ZQGwqZQWqDW_"
      },
      "source": [
        "## Rule\n",
        "+ Đơn điệu : cột hay hàng tăng thì lớp không giảm\n",
        "+ Liên thông (dk cần?): tại hàng (lớp) i thì cột cột đầu phải <i và cột cuối >i \n",
        "+ Liên thông (cần và đủ?): ma trận xs chuyển có duy nhất 1 phân phối dừng.\n",
        "+ Chu kì 1: luôn thỏa mãn khi liên thông và lớp 1 -> lớp 1 khi số vụ = 0"
      ]
    },
    {
      "cell_type": "markdown",
      "metadata": {
        "id": "zy16vQGYs7GO"
      },
      "source": [
        "# Formula\n",
        "\n"
      ]
    },
    {
      "cell_type": "markdown",
      "metadata": {
        "id": "BivjLwfdmDRw"
      },
      "source": [
        "$$ p_k = C_k^{k+a-1} (\\frac{\\tau}{1+\\tau})^a(\\frac{1}{1+\\tau})^k $$\n",
        "\n",
        "$$ \n",
        "  e = \\left [\\int_0^\\infty e_1(\\lambda)u(\\lambda), ... \\int_0^\\infty e_s(\\lambda)u(\\lambda) \\right] \\tag{2}\n",
        "$$\n",
        "Trường hợp $\\Lambda$ tuân theo phân phối Gamma\n",
        "$$\n",
        "u(\\lambda) = \\frac{\\tau^a e^{-\\tau\\lambda}\\lambda^{a-1}}{\\Gamma(a)}\n",
        "$$\n",
        "(2.8 tr 196 - 2017)\n",
        "\n",
        "Trong trường hợp $\\Lambda$ tuân theo phân phối IG($\\mu,\\theta$):\n",
        "$$u(\\lambda)=\\sqrt{\\frac{\\theta}{2\\pi \\lambda^3}}e^{-\\frac{\\theta(\\lambda-\\mu)^2}{2\\mu^2\\lambda}}$$\n",
        "\n",
        "$$ b_j = \\frac{\\int_0^\\infty e_j(\\lambda) \\lambda u(\\lambda)d\\lambda}{e_j} \\tag{4} $$"
      ]
    },
    {
      "cell_type": "markdown",
      "metadata": {
        "id": "25X0hFpARnoC"
      },
      "source": [
        "+ Tính tích phân:\n",
        "$$Q(b)=\\int_0^\\infty \\sum_{j=1}^s(b_j-\\lambda)^2e_j(\\lambda)u(\\lambda) \\ d\\lambda    \\tag{5}$$"
      ]
    },
    {
      "cell_type": "markdown",
      "metadata": {
        "id": "CddL-pGRkO03"
      },
      "source": [
        "+ Công thức tính $MAE_{\\eta}$\n",
        "$$MAE_{\\eta} = \\int_0^\\infty | 1-\\eta(\\lambda)|u(\\lambda) \\ d\\lambda$$\n",
        "Với :\n",
        "$$\\eta(\\lambda)=\\frac{\\partial b_e}{b_e} / \\frac{\\partial \\lambda}{\\lambda} = \\frac{\\partial b_e}{\\partial \\lambda} / \\frac{b_e}{\\lambda}$$"
      ]
    },
    {
      "cell_type": "markdown",
      "metadata": {
        "id": "T5s7jXOWqYqe"
      },
      "source": [
        "# Algorithm"
      ]
    },
    {
      "cell_type": "markdown",
      "metadata": {
        "id": "G67HOT6Pnq5Q"
      },
      "source": [
        "+ Tạo ma trận chuyển lớp B có (n lớp) x (1 đến m vụ): duyệt theo luật \\\\\n",
        "Rc\n",
        "\n",
        "+ Tạo các ma trận luật chuyển $T_k$ từ B (trang 195 - 2017)\n",
        "$$T_k[i,j] = ( B[i,k] == j )$$ với $ k = \\overline{1,n} $\n",
        "\n",
        "+ Tạo các ma trận xác suất chuyển $P(\\lambda)$ từ $T_k$ và $p_k$\n",
        "$$ P(\\lambda) = \\sum_{k=0}^n p_k(\\lambda) T_k[i,j] $$\n",
        "với $\\lambda = \\Delta, 2\\Delta, ..., M$\n",
        "+ Tìm phân phối dừng cho $P(\\lambda)$ (nếu có > 1 pp dừng thì loại do ko lt), pp dừng là nghiệm e của hệ\n",
        "$$ eP = e; \\sum_i e_i = 1$$\n",
        "PPD\n",
        "\n",
        "+ Tính vector tỉ lệ phí b\n",
        "\n",
        "+ Tính giá trị hàm mục tiêu Q(b)\n",
        "\n",
        "+ Lặp lại với các ma trận chuyển và chọn ma trận chuyển có hàm mục tiêu Q(b) nhỏ nhất.\n",
        "\n",
        "\n"
      ]
    },
    {
      "cell_type": "markdown",
      "metadata": {
        "id": "kvddxzO-GsFE"
      },
      "source": [
        "# Parameter ( unfinished )"
      ]
    },
    {
      "cell_type": "code",
      "execution_count": null,
      "metadata": {
        "id": "VQTW5JsGTtUG"
      },
      "outputs": [],
      "source": [
        "# from data\n",
        "meanX = 0.394\n",
        "sSquare = 0.5868\n",
        "\n",
        "# gamma for number of claim\n",
        "tau_const = 2.042524\n",
        "a_const = 0.804664\n",
        "mu=0.05\n",
        "theta=0.01\n",
        "\n",
        "### fake\n",
        "\n",
        "# fake (kind of)\n",
        "\n",
        "m_dist = 17.650819\n",
        "s_dist = 3.85621\n",
        "\n",
        "### fake\n",
        "\n",
        "b_e_const = a_const/tau_const\n",
        "variance_const = a_const/(tau_const**2)\n",
        "\n",
        "# from alg\n",
        "CRange=np.array([0,5,15,50])\n",
        "\n",
        "n = 5                                         # số lớp cho khách hàng                                   \n",
        "m = len(CRange)+1                               # số lớp cho số tiền\n",
        "\n",
        "Delta = 0.01                             # bước nhảy cho lambda\n",
        "DeltaTheta = 0.1\n",
        "#0.0005\n",
        "M = 2                                         # cận trên cho lambda\n",
        "MTheta = 100\n",
        "\n",
        "stepNum = (int) (M/ Delta)\n",
        "stepNumTheta = (int) (MTheta/ DeltaTheta)     \n",
        "\n",
        "Lamb = (np.array(range(0, stepNum)) + 10**-4) * Delta       # mảng lambda   \n",
        "\n",
        "Theta = (np.array(range(0, stepNumTheta))+1) * DeltaTheta"
      ]
    },
    {
      "cell_type": "markdown",
      "metadata": {
        "id": "CCLVAA4FhtxZ"
      },
      "source": [
        "# Function\n"
      ]
    },
    {
      "cell_type": "code",
      "execution_count": null,
      "metadata": {
        "id": "iiA9cnjCvNZs"
      },
      "outputs": [],
      "source": [
        "#Tạo mảng p_k\n",
        "def Ckn(k,n):\n",
        "  return gamma(n+1)/gamma(k+1)/gamma(n-k+1)\n",
        "\n",
        "\n",
        "# p=[]\n",
        "\n",
        "# for k in range (1,m+1):\n",
        "  # p.append(Ckn(k+a_const-1,k)*((tau_const/(1+tau_const)**a_const))*((1/(1+tau_const))**k))"
      ]
    },
    {
      "cell_type": "code",
      "execution_count": null,
      "metadata": {
        "id": "uN6WUzmTw9aZ"
      },
      "outputs": [],
      "source": [
        "# Tìm phân phối dừng (chỉ 1 vecto)\n",
        "def PPD(P):\n",
        "    n = len(P)\n",
        "    P = (P - np.eye(n)).T\n",
        "    P[0] = [1] * n\n",
        "    b = [1] + [0] * (n-1)\n",
        "    try:\n",
        "      ppd = np.linalg.solve(P,b)\n",
        "      return ppd\n",
        "    except:\n",
        "      #print(\"error, P =\")\n",
        "      #print(P)\n",
        "      raise ValueError"
      ]
    },
    {
      "cell_type": "code",
      "execution_count": null,
      "metadata": {
        "id": "e3PFMGCytMt5"
      },
      "outputs": [],
      "source": [
        "#Tạo ma trận chuyển \n",
        "\n",
        "def Create_Matrix_T(a):\n",
        "  # #changed\n",
        "  n = len(a)\n",
        "  m = len(a[0])\n",
        "  # #changed\n",
        "  \n",
        "  T=np.zeros((m,n,n))\n",
        "  for k in range(0,m):\n",
        "    for i in range(0,n):\n",
        "      T[k][i][int(a[i][k]-1)]=1\n",
        "  return T"
      ]
    },
    {
      "cell_type": "markdown",
      "metadata": {
        "id": "4QX4SimMNGlj"
      },
      "source": [
        "$p_{c_k, c_{k+1}}(\\lambda, \\theta)=\\mathbb{P}(c_k\\leq Z \\leq c_{k+1}|\\Lambda = \\lambda ,\\Theta=\\theta)=\\sum_{i=0}^\\infty\\mathbb{P}(c_l\\leq Z \\leq c_{l+1}|N = i,\\Theta=\\theta)*\\mathbb{P}(N = i| \\Lambda = \\lambda)$\n",
        "\n",
        " Ta có:\n",
        "    $$\n",
        "    \\mathbb{P}(N = i| \\Lambda = \\lambda) = e^{-\\lambda}\\frac{\\lambda^i}{i!}\n",
        "    $$\n",
        "    $$\\mathbb{P}(c_l\\leq Z \\leq c_{l+1}|N = i,\\Theta=\\theta)=F(c_{l+1})-F(c_l)$$\n",
        "\n",
        "với F là hàm phân phối của biến ngẫu nhiên Gamma với tham số $i,\\frac{1}{\\theta}$. $$F(x ; i, \\frac{1}{\\theta})=1-\\sum_{k=0}^{i-1} \\frac{(\\theta^{-1} x)^{k}}{k!} e^{-\\theta^{-1} x}$$"
      ]
    },
    {
      "cell_type": "code",
      "execution_count": null,
      "metadata": {
        "id": "7VoS5EBXhbvb"
      },
      "outputs": [],
      "source": [
        "def giaiThua(n):\n",
        "    if n == 0:\n",
        "        return 1\n",
        "    return n * giaiThua(n - 1)"
      ]
    },
    {
      "cell_type": "code",
      "execution_count": null,
      "metadata": {
        "id": "Btan1ISViBXJ"
      },
      "outputs": [],
      "source": [
        "def ErlangDis(theta,n,x):\n",
        "    temp=0\n",
        "    for k in range(n):\n",
        "        temp+=(x/theta)**k/giaiThua(k)*math.e**(-x/theta)\n",
        "    return 1-temp"
      ]
    },
    {
      "cell_type": "code",
      "execution_count": null,
      "metadata": {
        "id": "I0cgq1Lc9O3c"
      },
      "outputs": [],
      "source": [
        "def Create_Matrix_P(T, lamb, theta):\n",
        "  # #changed\n",
        "  m = len(T)\n",
        "  n = len(T[0])\n",
        "  #changed\n",
        "  P=np.zeros((n,n))\n",
        "  p =[]\n",
        "  infty=10\n",
        "  \n",
        "  p.append(math.e**(-lamb))\n",
        "  \n",
        "  # p.append(math.e**(-lamb) * ErlangDis(theta,i,CRange[1]/2)-ErlangDis(theta,i,CRange[0]))\n",
        "  for k in range(m-2):\n",
        "    ap=0\n",
        "    for i in range(0,infty):\n",
        "        temp1=math.e**(-lamb)*(lamb)**i/giaiThua(i)\n",
        "        temp2=ErlangDis(theta,i,CRange[k+1])-ErlangDis(theta,i,CRange[k])\n",
        "        ap+=temp1*temp2\n",
        "        # print(ap)\n",
        "    p.append(ap)\n",
        "  \n",
        "  p.append(1-sum(p))\n",
        "\n",
        "  for k in range(0,m):\n",
        "    for i in range (0,n):\n",
        "      for j in range (0,n):\n",
        "        P[i][j]+=T[k][i][j] * p[k]\n",
        "  return P"
      ]
    },
    {
      "cell_type": "markdown",
      "metadata": {
        "id": "qK5R-b3ekfph"
      },
      "source": [
        "#Gamma and Inverse Gamma\n"
      ]
    },
    {
      "cell_type": "code",
      "execution_count": null,
      "metadata": {
        "id": "ZQB5vVOYkl75"
      },
      "outputs": [],
      "source": [
        "# Tính tích phân từ hàm dạng mảng\n",
        "def Integral_Trapezoid(func, stepSize):\n",
        "  return stepSize*(np.sum(func) - func[0]/2 - func[len(func)-1]/2 )"
      ]
    },
    {
      "cell_type": "markdown",
      "metadata": {
        "id": "KAcakFxBkXkM"
      },
      "source": [
        " $$Gamma=\\displaystyle \\dfrac{\\tau^a e^{-\\tau\\lambda}\\lambda^{a-1}}{\\Gamma(a)}$$\n",
        " $$Inverse Gamma = \\dfrac{\\frac{1}{m}e^{-\\frac{m}{\\theta}}}{{(\\frac{\\theta}{m})^{s+1}}\\Gamma(s)}$$"
      ]
    },
    {
      "cell_type": "code",
      "execution_count": null,
      "metadata": {
        "id": "3Pwf3XJvwY87"
      },
      "outputs": [],
      "source": [
        "def Gamma_uFunc(lamb):\n",
        "  return tau_const**a_const * math.e**(-tau_const*lamb) * lamb**(a_const-1) / gamma(a_const)"
      ]
    },
    {
      "cell_type": "code",
      "execution_count": null,
      "metadata": {
        "id": "5mIylMPO9gwp"
      },
      "outputs": [],
      "source": [
        "def IG_uFunc(lamb):\n",
        "  return math.sqrt(theta/(2*math.pi*(lamb)**3))*math.e**(-theta*(lamb-mu)**2/(2*mu**2*lamb))"
      ]
    },
    {
      "cell_type": "code",
      "execution_count": null,
      "metadata": {
        "id": "-Sk_29GKyUFv"
      },
      "outputs": [],
      "source": [
        "def New_IG_uFunc(theta):\n",
        "  # if theta < m_dist:\n",
        "  #   return 0\n",
        "  return math.e**(-m_dist/theta)*m_dist**s_dist/gamma(s_dist)/theta**(s_dist+1)"
      ]
    },
    {
      "cell_type": "markdown",
      "metadata": {
        "id": "Re8t9J5dPI6S"
      },
      "source": [
        "<!-- # pareto:\n",
        "$$\n",
        "f(x) = \\frac{\\alpha x^\\alpha}\n",
        "{(x+m)^{\\alpha+1}}\n",
        "$$ -->\n"
      ]
    },
    {
      "cell_type": "markdown",
      "metadata": {
        "id": "udZ-t4Xrj5h9"
      },
      "source": [
        "#Tích phân 2 lớp Lambda, Theta"
      ]
    },
    {
      "cell_type": "code",
      "execution_count": null,
      "metadata": {
        "id": "frDOarLVqwkj"
      },
      "outputs": [],
      "source": [
        "bar = progressbar.ProgressBar(maxval=100, \\\n",
        "    widgets=[progressbar.Bar('=', '[', ']'), ' ', progressbar.Percentage()])\n",
        "\n",
        "U = []  # claim num\n",
        "V = []  # money                               \n",
        "for lamb in Lamb:\n",
        "  #Gamma Distribution:\n",
        "  U.append(Gamma_uFunc(lamb))\n",
        "\n",
        "  #IG Distribution:\n",
        "  #U.append(IG_uFunc(lamb))\n",
        "\n",
        "for theta in Theta:\n",
        "  V.append(New_IG_uFunc(theta))\n",
        "\n",
        "def Objective(B):\n",
        "  n = len(B)\n",
        "  m = len(B[0])\n",
        "\n",
        "  # stepNum = len(Lamb)\n",
        "\n",
        "  #checked\n",
        "  print(\"tìm mảng phân phối dừng\\n\")\n",
        "  bar.start()\n",
        "  \n",
        "  T = Create_Matrix_T(B)\n",
        "  # mảng 3 chiều lần lượt theo lambda, theta, thứ tự lớp\n",
        "  E = []\n",
        "  for i in range(stepNum):\n",
        "    smolE = []\n",
        "    for j in range(stepNumTheta):\n",
        "    #\n",
        "      P = Create_Matrix_P(T, Lamb[i], Theta[j])\n",
        "    #\n",
        "      try:\n",
        "        ppd = PPD(P)\n",
        "      except:\n",
        "        #print(\"disconnected\")\n",
        "        return (math.inf, math.inf, math.inf, \"disconnected 1\")\n",
        "      smolE.append(ppd)\n",
        "    E.append(smolE)\n",
        "    bar.update(i/stepNum * 100)\n",
        "  bar.finish()\n",
        "\n",
        "  # tính pp dừng\n",
        "  print(\"tìm phân phối dừng hệ thống\\n\")\n",
        "  bar.start()\n",
        "\n",
        "  e = []\n",
        "  for j in range(n): \n",
        "    ek_Integral = []                                                  # số vụ m or n ?\n",
        "    for i in range(stepNum):    # theo lambda \n",
        "      Integral = []\n",
        "      for k in range(stepNumTheta):\n",
        "        Integral.append(U[i] * V[k] * E[i][k][j])                                # (2)\n",
        "      ek_Integral.append(Integral_Trapezoid(Integral, DeltaTheta))\n",
        "\n",
        "    ej = Integral_Trapezoid(ek_Integral, Delta)\n",
        "\n",
        "    e.append(ej)\n",
        "    if ej == 0:\n",
        "        #print(\"disconnected\")\n",
        "        #print(np.array(E)[:,j])\n",
        "        #print(Integral)\n",
        "      return (math.inf, math.inf, j, \"disconnected 2\")\n",
        "    \n",
        "    bar.update(j/n * 100)\n",
        "  \n",
        "  bar.finish()  \n",
        "  # tính vector phí\n",
        "\n",
        "  # e = [0.5, 0.3, 0.2]\n",
        "\n",
        "  b = []\n",
        "  for j in range(n): \n",
        "    bk_Integral = []                                                  # số vụ m or n ?\n",
        "    for i in range(stepNum):    # theo lambda \n",
        "      Integral = []\n",
        "      for k in range(stepNumTheta):  #theo theta\n",
        "        Integral.append(U[i]* V[k] * E[i][k][j] * Lamb[i]**4 * Theta[k])                                # (2)\n",
        "      bk_Integral.append(Integral_Trapezoid(Integral, DeltaTheta))\n",
        "\n",
        "    bj = Integral_Trapezoid(bk_Integral, Delta)\n",
        "\n",
        "    b.append(bj/ej)\n",
        "    if bj == 0:\n",
        "        #print(\"disconnected\")\n",
        "        #print(np.array(E)[:,j])\n",
        "        #print(Integral)\n",
        "      return (math.inf, math.inf, math.inf, \"disconnected 3\")\n",
        "\n",
        "  # /\n",
        "  # e\n",
        "\n",
        "  Qb = 0\n",
        "  Qb_l = []\n",
        "  for j in range(n):\n",
        "    Qb_Integral = [] \n",
        "    for i in range(stepNum):\n",
        "      Qbk_Integral = []\n",
        "      for k in range(stepNumTheta):\n",
        "        Qbk_Integral.append((b[j] -  Lamb[i] * Theta[k]) **2 * E[i][k][j] * U[i] * V[k])\n",
        "      Qb_Integral.append(Integral_Trapezoid(Qbk_Integral,DeltaTheta))                        # (5)\n",
        "    Qb_l.append(Integral_Trapezoid(Qb_Integral, Delta));\n",
        "  Qb = sum(Qb_l)\n",
        "\n",
        "\n",
        "  #Gamma Distribution:\n",
        "  # QN = ( (b*b)@e - (a_const/tau_const)**2 ) / variance_const\n",
        "  # #IG Distribution:\n",
        "  # #QN = (b*b@e-mu**2) / (mu**3/ theta)\n",
        "\n",
        "  b=np.array(b)\n",
        "  b_e = b@e\n",
        "  V_b_e = math.sqrt( (b-b_e) * (b - b_e) @ e ) / b_e\n",
        "  MAE_V = abs(1-V_b_e)\n",
        "\n",
        "  # RSAL = (b_e-b[0])/(b[n-1]-b[0])\n",
        "\n",
        "  # #Chuẩn hóa b\n",
        "  # b=b/b[2]\n",
        "\n",
        "  return e,b,MAE_V"
      ]
    },
    {
      "cell_type": "code",
      "execution_count": null,
      "metadata": {
        "colab": {
          "base_uri": "https://localhost:8080/"
        },
        "id": "VpdEu4c9rhPR",
        "outputId": "60fe7638-7d47-4b63-80a9-9478d4d745f4"
      },
      "outputs": [
        {
          "output_type": "stream",
          "name": "stderr",
          "text": [
            "\r                                                                               \r\r[                                                                        ] N/A%"
          ]
        },
        {
          "output_type": "stream",
          "name": "stdout",
          "text": [
            "tìm mảng phân phối dừng\n",
            "\n"
          ]
        },
        {
          "output_type": "stream",
          "name": "stderr",
          "text": [
            "[                                                                        ] N/A%"
          ]
        },
        {
          "output_type": "stream",
          "name": "stdout",
          "text": [
            "tìm phân phối dừng hệ thống\n",
            "\n"
          ]
        },
        {
          "output_type": "stream",
          "name": "stderr",
          "text": [
            "[========================================================================] 100%"
          ]
        },
        {
          "output_type": "execute_result",
          "data": {
            "text/plain": [
              "([0.7305188581149649,\n",
              "  0.1658437447014402,\n",
              "  0.0697190574207058,\n",
              "  0.07895597664449384,\n",
              "  0.030647470977425723],\n",
              " array([ 4.07114674,  6.22206697,  9.22466717, 26.11462697, 29.6704413 ]),\n",
              " 0.05722828175576067)"
            ]
          },
          "metadata": {},
          "execution_count": 36
        }
      ],
      "source": [
        "Bop = np.array(\n",
        "         [[1, 2, 2, 3, 4],\n",
        "         [1, 2, 3, 3, 4],\n",
        "         [2, 4, 4, 4, 5],\n",
        "         [3, 4, 4, 5, 5],\n",
        "         [4, 5, 5, 5, 5]])\n",
        "e,b,MAE_V = Objective(Bop)\n",
        "e,b,MAE_V"
      ]
    },
    {
      "cell_type": "code",
      "source": [
        "b_l=np.array([ 4.07114674,  6.22206697,  9.22466717, 26.11462697, 29.6704413 ])\n",
        "b_l=b_l/b_l[2]\n",
        "b_l"
      ],
      "metadata": {
        "colab": {
          "base_uri": "https://localhost:8080/"
        },
        "id": "9zHkzUgj38Sy",
        "outputId": "22e0e76a-ff6b-415a-e9c1-05f010c38d08"
      },
      "execution_count": null,
      "outputs": [
        {
          "output_type": "execute_result",
          "data": {
            "text/plain": [
              "array([0.44133264, 0.67450314, 1.        , 2.83095601, 3.21642405])"
            ]
          },
          "metadata": {},
          "execution_count": 2
        }
      ]
    },
    {
      "cell_type": "markdown",
      "metadata": {
        "id": "r4lK1WVTWhnz"
      },
      "source": [
        "# Main:"
      ]
    },
    {
      "cell_type": "code",
      "execution_count": null,
      "metadata": {
        "id": "1Eaiqein2G4C"
      },
      "outputs": [],
      "source": [
        "LuuKetqua={'e':[],'b':[],'MAE':[], 'B':[]}"
      ]
    },
    {
      "cell_type": "code",
      "source": [
        "# LuuKetqua['e'].append(e)\n",
        "# LuuKetqua['b'].append(b)\n",
        "# LuuKetqua['Qb'].append(Qb)\n",
        "# LuuKetqua['B'].append(B)\n",
        "# LuuKetqua"
      ],
      "metadata": {
        "id": "dQ0cs1Y2wHFt"
      },
      "execution_count": null,
      "outputs": []
    },
    {
      "cell_type": "code",
      "execution_count": null,
      "metadata": {
        "colab": {
          "base_uri": "https://localhost:8080/"
        },
        "id": "UOPIscr72aH2",
        "outputId": "d001681c-da44-421b-825f-39dd7680309e"
      },
      "outputs": [
        {
          "output_type": "stream",
          "name": "stderr",
          "text": [
            "\r                                                                               \r\r[                                                                        ] N/A%"
          ]
        },
        {
          "output_type": "stream",
          "name": "stdout",
          "text": [
            "tìm mảng phân phối dừng\n",
            "\n"
          ]
        },
        {
          "output_type": "stream",
          "name": "stderr",
          "text": [
            "[========================================================================] 100%\n",
            "[                                                                        ] N/A%"
          ]
        },
        {
          "output_type": "stream",
          "name": "stdout",
          "text": [
            "tìm phân phối dừng hệ thống\n",
            "\n"
          ]
        },
        {
          "output_type": "stream",
          "name": "stderr",
          "text": [
            "[                                                                        ] N/A%"
          ]
        },
        {
          "output_type": "stream",
          "name": "stdout",
          "text": [
            "Vong lap so 0\n",
            "\n",
            "tìm mảng phân phối dừng\n",
            "\n"
          ]
        },
        {
          "output_type": "stream",
          "name": "stderr",
          "text": [
            "[==============                                                          ]  20%"
          ]
        },
        {
          "output_type": "stream",
          "name": "stdout",
          "text": [
            "tìm phân phối dừng hệ thống\n",
            "\n"
          ]
        },
        {
          "output_type": "stream",
          "name": "stderr",
          "text": [
            "[                                                                        ] N/A%"
          ]
        },
        {
          "output_type": "stream",
          "name": "stdout",
          "text": [
            "tìm mảng phân phối dừng\n",
            "\n"
          ]
        },
        {
          "output_type": "stream",
          "name": "stderr",
          "text": [
            "[==============                                                          ]  20%"
          ]
        },
        {
          "output_type": "stream",
          "name": "stdout",
          "text": [
            "tìm phân phối dừng hệ thống\n",
            "\n"
          ]
        },
        {
          "output_type": "stream",
          "name": "stderr",
          "text": [
            "[                                                                        ] N/A%"
          ]
        },
        {
          "output_type": "stream",
          "name": "stdout",
          "text": [
            "tìm mảng phân phối dừng\n",
            "\n"
          ]
        },
        {
          "output_type": "stream",
          "name": "stderr",
          "text": [
            "[                                                                        ] N/A%"
          ]
        },
        {
          "output_type": "stream",
          "name": "stdout",
          "text": [
            "tìm phân phối dừng hệ thống\n",
            "\n"
          ]
        },
        {
          "output_type": "stream",
          "name": "stderr",
          "text": [
            "[                                                                        ] N/A%"
          ]
        },
        {
          "output_type": "stream",
          "name": "stdout",
          "text": [
            "tìm mảng phân phối dừng\n",
            "\n"
          ]
        },
        {
          "output_type": "stream",
          "name": "stderr",
          "text": [
            "[==============                                                          ]  20%"
          ]
        },
        {
          "output_type": "stream",
          "name": "stdout",
          "text": [
            "tìm phân phối dừng hệ thống\n",
            "\n"
          ]
        },
        {
          "output_type": "stream",
          "name": "stderr",
          "text": [
            "[                                                                        ] N/A%"
          ]
        },
        {
          "output_type": "stream",
          "name": "stdout",
          "text": [
            "Vong lap so 1\n",
            "\n",
            "tìm mảng phân phối dừng\n",
            "\n"
          ]
        },
        {
          "output_type": "stream",
          "name": "stderr",
          "text": [
            "[                                                                        ] N/A%"
          ]
        },
        {
          "output_type": "stream",
          "name": "stdout",
          "text": [
            "tìm phân phối dừng hệ thống\n",
            "\n"
          ]
        },
        {
          "output_type": "stream",
          "name": "stderr",
          "text": [
            "[                                                                        ] N/A%"
          ]
        },
        {
          "output_type": "stream",
          "name": "stdout",
          "text": [
            "tìm mảng phân phối dừng\n",
            "\n"
          ]
        },
        {
          "output_type": "stream",
          "name": "stderr",
          "text": [
            "[==============                                                          ]  20%"
          ]
        },
        {
          "output_type": "stream",
          "name": "stdout",
          "text": [
            "tìm phân phối dừng hệ thống\n",
            "\n"
          ]
        },
        {
          "output_type": "stream",
          "name": "stderr",
          "text": [
            "[                                                                        ] N/A%"
          ]
        },
        {
          "output_type": "stream",
          "name": "stdout",
          "text": [
            "tìm mảng phân phối dừng\n",
            "\n"
          ]
        },
        {
          "output_type": "stream",
          "name": "stderr",
          "text": [
            "[                                                                        ] N/A%"
          ]
        },
        {
          "output_type": "stream",
          "name": "stdout",
          "text": [
            "tìm phân phối dừng hệ thống\n",
            "\n"
          ]
        },
        {
          "output_type": "stream",
          "name": "stderr",
          "text": [
            "[                                                                        ] N/A%"
          ]
        },
        {
          "output_type": "stream",
          "name": "stdout",
          "text": [
            "Vong lap so 2\n",
            "\n",
            "tìm mảng phân phối dừng\n",
            "\n"
          ]
        },
        {
          "output_type": "stream",
          "name": "stderr",
          "text": [
            ""
          ]
        },
        {
          "output_type": "stream",
          "name": "stdout",
          "text": [
            "tìm phân phối dừng hệ thống\n",
            "\n"
          ]
        },
        {
          "output_type": "stream",
          "name": "stderr",
          "text": [
            "[                                                                        ] N/A%"
          ]
        },
        {
          "output_type": "stream",
          "name": "stdout",
          "text": [
            "tìm mảng phân phối dừng\n",
            "\n"
          ]
        },
        {
          "output_type": "stream",
          "name": "stderr",
          "text": [
            "[==============                                                          ]  20%"
          ]
        },
        {
          "output_type": "stream",
          "name": "stdout",
          "text": [
            "tìm phân phối dừng hệ thống\n",
            "\n"
          ]
        },
        {
          "output_type": "stream",
          "name": "stderr",
          "text": [
            "[                                                                        ] N/A%"
          ]
        },
        {
          "output_type": "stream",
          "name": "stdout",
          "text": [
            "tìm mảng phân phối dừng\n",
            "\n"
          ]
        },
        {
          "output_type": "stream",
          "name": "stderr",
          "text": [
            "[                                                                        ] N/A%"
          ]
        },
        {
          "output_type": "stream",
          "name": "stdout",
          "text": [
            "tìm phân phối dừng hệ thống\n",
            "\n"
          ]
        },
        {
          "output_type": "stream",
          "name": "stderr",
          "text": [
            "[                                                                        ] N/A%"
          ]
        },
        {
          "output_type": "stream",
          "name": "stdout",
          "text": [
            "tìm mảng phân phối dừng\n",
            "\n"
          ]
        },
        {
          "output_type": "stream",
          "name": "stderr",
          "text": [
            "[                                                                        ] N/A%"
          ]
        },
        {
          "output_type": "stream",
          "name": "stdout",
          "text": [
            "tìm phân phối dừng hệ thống\n",
            "\n"
          ]
        },
        {
          "output_type": "stream",
          "name": "stderr",
          "text": [
            "[                                                                        ] N/A%"
          ]
        },
        {
          "output_type": "stream",
          "name": "stdout",
          "text": [
            "tìm mảng phân phối dừng\n",
            "\n"
          ]
        },
        {
          "output_type": "stream",
          "name": "stderr",
          "text": [
            "[==============                                                          ]  20%"
          ]
        },
        {
          "output_type": "stream",
          "name": "stdout",
          "text": [
            "tìm phân phối dừng hệ thống\n",
            "\n"
          ]
        },
        {
          "output_type": "stream",
          "name": "stderr",
          "text": [
            "[                                                                        ] N/A%"
          ]
        },
        {
          "output_type": "stream",
          "name": "stdout",
          "text": [
            "tìm mảng phân phối dừng\n",
            "\n"
          ]
        },
        {
          "output_type": "stream",
          "name": "stderr",
          "text": [
            "[                                                                        ] N/A%"
          ]
        },
        {
          "output_type": "stream",
          "name": "stdout",
          "text": [
            "tìm phân phối dừng hệ thống\n",
            "\n"
          ]
        },
        {
          "output_type": "stream",
          "name": "stderr",
          "text": [
            "[                                                                        ] N/A%"
          ]
        },
        {
          "output_type": "stream",
          "name": "stdout",
          "text": [
            "Vong lap so 3\n",
            "\n",
            "tìm mảng phân phối dừng\n",
            "\n"
          ]
        },
        {
          "output_type": "stream",
          "name": "stderr",
          "text": [
            "[                                                                        ] N/A%"
          ]
        },
        {
          "output_type": "stream",
          "name": "stdout",
          "text": [
            "tìm phân phối dừng hệ thống\n",
            "\n"
          ]
        },
        {
          "output_type": "stream",
          "name": "stderr",
          "text": [
            "[                                                                        ] N/A%"
          ]
        },
        {
          "output_type": "stream",
          "name": "stdout",
          "text": [
            "Vong lap so 4\n",
            "\n",
            "tìm mảng phân phối dừng\n",
            "\n"
          ]
        },
        {
          "output_type": "stream",
          "name": "stderr",
          "text": [
            "[                                                                        ] N/A%"
          ]
        },
        {
          "output_type": "stream",
          "name": "stdout",
          "text": [
            "tìm phân phối dừng hệ thống\n",
            "\n"
          ]
        },
        {
          "output_type": "stream",
          "name": "stderr",
          "text": [
            "[                                                                        ] N/A%"
          ]
        },
        {
          "output_type": "stream",
          "name": "stdout",
          "text": [
            "tìm mảng phân phối dừng\n",
            "\n"
          ]
        },
        {
          "output_type": "stream",
          "name": "stderr",
          "text": [
            "[==============                                                          ]  20%"
          ]
        },
        {
          "output_type": "stream",
          "name": "stdout",
          "text": [
            "tìm phân phối dừng hệ thống\n",
            "\n"
          ]
        },
        {
          "output_type": "stream",
          "name": "stderr",
          "text": [
            "[                                                                        ] N/A%"
          ]
        },
        {
          "output_type": "stream",
          "name": "stdout",
          "text": [
            "tìm mảng phân phối dừng\n",
            "\n"
          ]
        },
        {
          "output_type": "stream",
          "name": "stderr",
          "text": [
            "[                                                                        ] N/A%"
          ]
        },
        {
          "output_type": "stream",
          "name": "stdout",
          "text": [
            "tìm phân phối dừng hệ thống\n",
            "\n"
          ]
        },
        {
          "output_type": "stream",
          "name": "stderr",
          "text": [
            "[                                                                        ] N/A%"
          ]
        },
        {
          "output_type": "stream",
          "name": "stdout",
          "text": [
            "tìm mảng phân phối dừng\n",
            "\n"
          ]
        },
        {
          "output_type": "stream",
          "name": "stderr",
          "text": [
            "[==============                                                          ]  20%"
          ]
        },
        {
          "output_type": "stream",
          "name": "stdout",
          "text": [
            "tìm phân phối dừng hệ thống\n",
            "\n"
          ]
        },
        {
          "output_type": "stream",
          "name": "stderr",
          "text": [
            "[                                                                        ] N/A%"
          ]
        },
        {
          "output_type": "stream",
          "name": "stdout",
          "text": [
            "tìm mảng phân phối dừng\n",
            "\n"
          ]
        },
        {
          "output_type": "stream",
          "name": "stderr",
          "text": [
            "[==============                                                          ]  20%"
          ]
        },
        {
          "output_type": "stream",
          "name": "stdout",
          "text": [
            "tìm phân phối dừng hệ thống\n",
            "\n"
          ]
        },
        {
          "output_type": "stream",
          "name": "stderr",
          "text": [
            "[                                                                        ] N/A%"
          ]
        },
        {
          "output_type": "stream",
          "name": "stdout",
          "text": [
            "tìm mảng phân phối dừng\n",
            "\n"
          ]
        },
        {
          "output_type": "stream",
          "name": "stderr",
          "text": [
            "[                                                                        ] N/A%"
          ]
        },
        {
          "output_type": "stream",
          "name": "stdout",
          "text": [
            "tìm phân phối dừng hệ thống\n",
            "\n"
          ]
        },
        {
          "output_type": "stream",
          "name": "stderr",
          "text": [
            "[                                                                        ] N/A%"
          ]
        },
        {
          "output_type": "stream",
          "name": "stdout",
          "text": [
            "tìm mảng phân phối dừng\n",
            "\n"
          ]
        },
        {
          "output_type": "stream",
          "name": "stderr",
          "text": [
            "[                                                                        ] N/A%"
          ]
        },
        {
          "output_type": "stream",
          "name": "stdout",
          "text": [
            "tìm phân phối dừng hệ thống\n",
            "\n"
          ]
        },
        {
          "output_type": "stream",
          "name": "stderr",
          "text": [
            "[                                                                        ] N/A%"
          ]
        },
        {
          "output_type": "stream",
          "name": "stdout",
          "text": [
            "tìm mảng phân phối dừng\n",
            "\n"
          ]
        },
        {
          "output_type": "stream",
          "name": "stderr",
          "text": [
            "[                                                                        ] N/A%"
          ]
        },
        {
          "output_type": "stream",
          "name": "stdout",
          "text": [
            "tìm phân phối dừng hệ thống\n",
            "\n"
          ]
        },
        {
          "output_type": "stream",
          "name": "stderr",
          "text": [
            "[                                                                        ] N/A%"
          ]
        },
        {
          "output_type": "stream",
          "name": "stdout",
          "text": [
            "tìm mảng phân phối dừng\n",
            "\n"
          ]
        },
        {
          "output_type": "stream",
          "name": "stderr",
          "text": [
            "[                                                                        ] N/A%"
          ]
        },
        {
          "output_type": "stream",
          "name": "stdout",
          "text": [
            "tìm phân phối dừng hệ thống\n",
            "\n"
          ]
        },
        {
          "output_type": "stream",
          "name": "stderr",
          "text": [
            "[                                                                        ] N/A%"
          ]
        },
        {
          "output_type": "stream",
          "name": "stdout",
          "text": [
            "tìm mảng phân phối dừng\n",
            "\n"
          ]
        },
        {
          "output_type": "stream",
          "name": "stderr",
          "text": [
            "[==============                                                          ]  20%"
          ]
        },
        {
          "output_type": "stream",
          "name": "stdout",
          "text": [
            "tìm phân phối dừng hệ thống\n",
            "\n"
          ]
        },
        {
          "output_type": "stream",
          "name": "stderr",
          "text": [
            "[                                                                        ] N/A%"
          ]
        },
        {
          "output_type": "stream",
          "name": "stdout",
          "text": [
            "Vong lap so 5\n",
            "\n",
            "tìm mảng phân phối dừng\n",
            "\n"
          ]
        },
        {
          "output_type": "stream",
          "name": "stderr",
          "text": [
            "[                                                                        ] N/A%"
          ]
        },
        {
          "output_type": "stream",
          "name": "stdout",
          "text": [
            "tìm phân phối dừng hệ thống\n",
            "\n"
          ]
        },
        {
          "output_type": "stream",
          "name": "stderr",
          "text": [
            "[                                                                        ] N/A%"
          ]
        },
        {
          "output_type": "stream",
          "name": "stdout",
          "text": [
            "tìm mảng phân phối dừng\n",
            "\n"
          ]
        },
        {
          "output_type": "stream",
          "name": "stderr",
          "text": [
            "[==============                                                          ]  20%"
          ]
        },
        {
          "output_type": "stream",
          "name": "stdout",
          "text": [
            "tìm phân phối dừng hệ thống\n",
            "\n"
          ]
        },
        {
          "output_type": "stream",
          "name": "stderr",
          "text": [
            "[                                                                        ] N/A%"
          ]
        },
        {
          "output_type": "stream",
          "name": "stdout",
          "text": [
            "tìm mảng phân phối dừng\n",
            "\n"
          ]
        },
        {
          "output_type": "stream",
          "name": "stderr",
          "text": [
            "[================================================================        ]  89%"
          ]
        }
      ],
      "source": [
        "#def BM(B):\n",
        "# B = np.array([\n",
        "#   [1,4,4,4,4],\n",
        "#   [1,4,4,4,4],\n",
        "#   [2,4,4,4,4],\n",
        "#   [3,4,4,4,4]\n",
        "# ])\n",
        "\n",
        "B = np.array( [[1, 2, 2, 4, 4],\n",
        "   [1, 2, 3, 4, 4],\n",
        "   [2, 3, 4, 4, 5],\n",
        "   [3, 4, 4, 5, 5],\n",
        "   [4, 5, 5, 5, 5]])\n",
        "\n",
        "# n = len(B)\n",
        "# m = len(B[0])\n",
        "\n",
        "bMin = B\n",
        "current = Objective(B)[2]   # current objective\n",
        "if current == math.inf:\n",
        "  raise ValueError\n",
        "\n",
        "obj = 0\n",
        "LoopTime=0\n",
        "MaxLoopTime=200\n",
        "np.random.seed(44)\n",
        "\n",
        "List=[]\n",
        "for i in range(n):\n",
        "  for j in range(m):\n",
        "    List.append([i,j])\n",
        "\n",
        "changed = True\n",
        "while changed:\n",
        "  print('Vong lap so '+str(LoopTime)+'\\n')\n",
        "  LoopTime+=1\n",
        "  if(LoopTime>MaxLoopTime):\n",
        "     break\n",
        "  changed = False\n",
        "  #for row in range(n):\n",
        "  #  if changed:\n",
        "  #    break\n",
        "  #  for col in range(m):\n",
        "  shuffle(List)\n",
        "  for x in List:\n",
        "    if changed:\n",
        "      break\n",
        "    row=x[0]\n",
        "    col=x[1]\n",
        "    value = B[row][col]\n",
        "    for element in [value-1, value+1]:\n",
        "      try:\n",
        "        if element<=0 or element >= n:\n",
        "          continue\n",
        "        B_neighbor = B.copy()\n",
        "        B_neighbor[row][col] = element\n",
        "\n",
        "        if (row < n-1 and element > B[row+1][col])\\\n",
        "        or (col < m-1 and element > B[row][col+1])\\\n",
        "        or (row > 0 and element < B[row-1][col])\\\n",
        "        or (col > 0 and element < B[row][col-1]):     \n",
        "          continue\n",
        "        \n",
        "        e_loop, b_loop, obj = Objective(B_neighbor)\n",
        "        \n",
        "        if obj < current:\n",
        "          current = obj\n",
        "          B = B_neighbor.copy()\n",
        "          changed = True\n",
        "          LuuKetqua['e'].append(e_loop)\n",
        "          LuuKetqua['b'].append(b_loop)\n",
        "          LuuKetqua['MAE'].append(obj)\n",
        "          LuuKetqua['B'].append(B)\n",
        "\n",
        "          continue\n",
        "\n",
        "      except:\n",
        "        1"
      ]
    },
    {
      "cell_type": "code",
      "execution_count": null,
      "metadata": {
        "id": "toUPSNeA0eYJ"
      },
      "outputs": [],
      "source": [
        "LuuKetqua"
      ]
    },
    {
      "cell_type": "code",
      "source": [
        "B"
      ],
      "metadata": {
        "id": "Dncem1k3l6Zj"
      },
      "execution_count": null,
      "outputs": []
    },
    {
      "cell_type": "code",
      "execution_count": null,
      "metadata": {
        "id": "TPS-bg2QFkRK"
      },
      "outputs": [],
      "source": [
        "LuuKetqua2={'E':LuuKetqua['e'],'Qb': LuuKetqua['Qb'], 'b': LuuKetqua['b']}\n",
        "res=pd.DataFrame(LuuKetqua2)\n",
        "res.head()\n",
        "res.to_excel('Version1_MAE.xlsx')"
      ]
    },
    {
      "cell_type": "code",
      "source": [
        "RES={'B':[]}\n",
        "for x in LuuKetqua['B']:\n",
        "    RES['B'].append(x)"
      ],
      "metadata": {
        "id": "uAd31fAlGF3Q"
      },
      "execution_count": null,
      "outputs": []
    },
    {
      "cell_type": "code",
      "source": [
        "RES"
      ],
      "metadata": {
        "id": "IyMiFkOAG-HB",
        "outputId": "86427747-d823-4259-a3aa-7a3aa858ba96",
        "colab": {
          "base_uri": "https://localhost:8080/"
        }
      },
      "execution_count": null,
      "outputs": [
        {
          "output_type": "execute_result",
          "data": {
            "text/plain": [
              "{'B': [array([[1, 2, 2, 4, 4],\n",
              "         [1, 2, 3, 4, 4],\n",
              "         [2, 3, 4, 4, 5],\n",
              "         [3, 4, 4, 5, 5],\n",
              "         [4, 5, 5, 5, 5]]), array([[1, 2, 2, 4, 4],\n",
              "         [1, 2, 4, 4, 4],\n",
              "         [2, 3, 4, 4, 5],\n",
              "         [3, 4, 4, 5, 5],\n",
              "         [4, 5, 5, 5, 5]]), array([[1, 2, 2, 4, 4],\n",
              "         [1, 3, 4, 4, 4],\n",
              "         [2, 3, 4, 4, 5],\n",
              "         [3, 4, 4, 5, 5],\n",
              "         [4, 5, 5, 5, 5]]), array([[1, 2, 2, 4, 4],\n",
              "         [1, 3, 4, 4, 4],\n",
              "         [2, 4, 4, 4, 5],\n",
              "         [3, 4, 4, 5, 5],\n",
              "         [4, 5, 5, 5, 5]]), array([[1, 2, 2, 4, 4],\n",
              "         [1, 4, 4, 4, 4],\n",
              "         [2, 4, 4, 4, 5],\n",
              "         [3, 4, 4, 5, 5],\n",
              "         [4, 5, 5, 5, 5]]), array([[1, 2, 3, 4, 4],\n",
              "         [1, 4, 4, 4, 4],\n",
              "         [2, 4, 4, 4, 5],\n",
              "         [3, 4, 4, 5, 5],\n",
              "         [4, 5, 5, 5, 5]]), array([[1, 2, 4, 4, 4],\n",
              "         [1, 4, 4, 4, 4],\n",
              "         [2, 4, 4, 4, 5],\n",
              "         [3, 4, 4, 5, 5],\n",
              "         [4, 5, 5, 5, 5]]), array([[1, 3, 4, 4, 4],\n",
              "         [1, 4, 4, 4, 4],\n",
              "         [2, 4, 4, 4, 5],\n",
              "         [3, 4, 4, 5, 5],\n",
              "         [4, 5, 5, 5, 5]])]}"
            ]
          },
          "metadata": {},
          "execution_count": 26
        }
      ]
    },
    {
      "cell_type": "code",
      "source": [
        "np.savetxt('data.csv', LuuKetqua['B'], delimiter=',')"
      ],
      "metadata": {
        "colab": {
          "base_uri": "https://localhost:8080/",
          "height": 339
        },
        "id": "Agi66LwSGS51",
        "outputId": "7ee3c069-60c5-4247-fb52-dc0cadf6654a"
      },
      "execution_count": null,
      "outputs": [
        {
          "output_type": "error",
          "ename": "ValueError",
          "evalue": "ignored",
          "traceback": [
            "\u001b[0;31m---------------------------------------------------------------------------\u001b[0m",
            "\u001b[0;31mValueError\u001b[0m                                Traceback (most recent call last)",
            "\u001b[0;32m<ipython-input-23-2a8e0547bdfc>\u001b[0m in \u001b[0;36m<module>\u001b[0;34m()\u001b[0m\n\u001b[0;32m----> 1\u001b[0;31m \u001b[0mnp\u001b[0m\u001b[0;34m.\u001b[0m\u001b[0msavetxt\u001b[0m\u001b[0;34m(\u001b[0m\u001b[0;34m'data.csv'\u001b[0m\u001b[0;34m,\u001b[0m \u001b[0mLuuKetqua\u001b[0m\u001b[0;34m[\u001b[0m\u001b[0;34m'B'\u001b[0m\u001b[0;34m]\u001b[0m\u001b[0;34m,\u001b[0m \u001b[0mdelimiter\u001b[0m\u001b[0;34m=\u001b[0m\u001b[0;34m','\u001b[0m\u001b[0;34m)\u001b[0m\u001b[0;34m\u001b[0m\u001b[0;34m\u001b[0m\u001b[0m\n\u001b[0m",
            "\u001b[0;32m<__array_function__ internals>\u001b[0m in \u001b[0;36msavetxt\u001b[0;34m(*args, **kwargs)\u001b[0m\n",
            "\u001b[0;32m/usr/local/lib/python3.7/dist-packages/numpy/lib/npyio.py\u001b[0m in \u001b[0;36msavetxt\u001b[0;34m(fname, X, fmt, delimiter, newline, header, footer, comments, encoding)\u001b[0m\n\u001b[1;32m   1381\u001b[0m         \u001b[0;32mif\u001b[0m \u001b[0mX\u001b[0m\u001b[0;34m.\u001b[0m\u001b[0mndim\u001b[0m \u001b[0;34m==\u001b[0m \u001b[0;36m0\u001b[0m \u001b[0;32mor\u001b[0m \u001b[0mX\u001b[0m\u001b[0;34m.\u001b[0m\u001b[0mndim\u001b[0m \u001b[0;34m>\u001b[0m \u001b[0;36m2\u001b[0m\u001b[0;34m:\u001b[0m\u001b[0;34m\u001b[0m\u001b[0;34m\u001b[0m\u001b[0m\n\u001b[1;32m   1382\u001b[0m             raise ValueError(\n\u001b[0;32m-> 1383\u001b[0;31m                 \"Expected 1D or 2D array, got %dD array instead\" % X.ndim)\n\u001b[0m\u001b[1;32m   1384\u001b[0m         \u001b[0;32melif\u001b[0m \u001b[0mX\u001b[0m\u001b[0;34m.\u001b[0m\u001b[0mndim\u001b[0m \u001b[0;34m==\u001b[0m \u001b[0;36m1\u001b[0m\u001b[0;34m:\u001b[0m\u001b[0;34m\u001b[0m\u001b[0;34m\u001b[0m\u001b[0m\n\u001b[1;32m   1385\u001b[0m             \u001b[0;31m# Common case -- 1d array of numbers\u001b[0m\u001b[0;34m\u001b[0m\u001b[0;34m\u001b[0m\u001b[0;34m\u001b[0m\u001b[0m\n",
            "\u001b[0;31mValueError\u001b[0m: Expected 1D or 2D array, got 3D array instead"
          ]
        }
      ]
    }
  ],
  "metadata": {
    "colab": {
      "collapsed_sections": [
        "CCLVAA4FhtxZ",
        "qK5R-b3ekfph"
      ],
      "provenance": []
    },
    "kernelspec": {
      "display_name": "Python 3",
      "name": "python3"
    },
    "language_info": {
      "name": "python"
    }
  },
  "nbformat": 4,
  "nbformat_minor": 0
}